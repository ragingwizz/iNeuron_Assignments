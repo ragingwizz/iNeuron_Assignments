{
  "cells": [
    {
      "cell_type": "markdown",
      "metadata": {
        "id": "view-in-github",
        "colab_type": "text"
      },
      "source": [
        "<a href=\"https://colab.research.google.com/github/ragingwizz/iNeuron_Assignments/blob/main/Sum_Of_Numbers_in_LinkedList.ipynb\" target=\"_parent\"><img src=\"https://colab.research.google.com/assets/colab-badge.svg\" alt=\"Open In Colab\"/></a>"
      ]
    },
    {
      "cell_type": "code",
      "source": [
        "class ListNode:\n",
        "    def __init__(self, val=0, next=None):\n",
        "        self.val = val\n",
        "        self.next = next\n",
        "\n",
        "def addTwoNumbers(l1, l2):\n",
        "    dummy_head = ListNode()\n",
        "    current = dummy_head\n",
        "    carry = 0\n",
        "\n",
        "    while l1 or l2:\n",
        "        x = l1.val if l1 else 0\n",
        "        y = l2.val if l2 else 0\n",
        "\n",
        "        sum = x + y + carry\n",
        "        carry = sum // 10\n",
        "        current.next = ListNode(sum % 10)\n",
        "\n",
        "        current = current.next\n",
        "        if l1:\n",
        "            l1 = l1.next\n",
        "        if l2:\n",
        "            l2 = l2.next\n",
        "\n",
        "    if carry > 0:\n",
        "        current.next = ListNode(carry)\n",
        "\n",
        "    return dummy_head.next\n"
      ],
      "outputs": [],
      "execution_count": 2,
      "metadata": {
        "id": "1LitxXc1IBgv"
      }
    },
    {
      "cell_type": "code",
      "source": [
        "l1 = ListNode(2)\n",
        "l1.next = ListNode(4)\n",
        "l1.next.next = ListNode(3)\n",
        "\n",
        "l2 = ListNode(5)\n",
        "l2.next = ListNode(6)\n",
        "l2.next.next = ListNode(4)\n",
        "\n",
        "result = addTwoNumbers(l1, l2)\n",
        "# The sum of 342 + 465 = 807\n",
        "# The resulting linked list: 7 -> 0 -> 8\n"
      ],
      "metadata": {
        "id": "fYPWJ5yjeSpQ"
      },
      "execution_count": 3,
      "outputs": []
    },
    {
      "cell_type": "code",
      "source": [
        "def printLinkedList(head):\n",
        "    current = head\n",
        "    while current:\n",
        "        print(current.val, end=\" \")\n",
        "        current = current.next\n",
        "    print()"
      ],
      "metadata": {
        "id": "kCK-lNYZe3zN"
      },
      "execution_count": 7,
      "outputs": []
    },
    {
      "cell_type": "code",
      "source": [
        "result = addTwoNumbers(l1, l2)\n",
        "printLinkedList(result)\n"
      ],
      "metadata": {
        "colab": {
          "base_uri": "https://localhost:8080/"
        },
        "id": "_t9B85TufPkN",
        "outputId": "d63d13f7-b6ae-4be7-bc56-706d42246769"
      },
      "execution_count": 8,
      "outputs": [
        {
          "output_type": "stream",
          "name": "stdout",
          "text": [
            "7 0 8 \n"
          ]
        }
      ]
    }
  ],
  "metadata": {
    "colab": {
      "provenance": [],
      "include_colab_link": true
    },
    "kernelspec": {
      "display_name": "Python 3",
      "name": "python3"
    }
  },
  "nbformat": 4,
  "nbformat_minor": 0
}