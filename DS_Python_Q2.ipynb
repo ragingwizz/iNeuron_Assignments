{
  "nbformat": 4,
  "nbformat_minor": 0,
  "metadata": {
    "colab": {
      "provenance": [],
      "authorship_tag": "ABX9TyO9xloMFqClDlc++bGJY0W0",
      "include_colab_link": true
    },
    "kernelspec": {
      "name": "python3",
      "display_name": "Python 3"
    },
    "language_info": {
      "name": "python"
    }
  },
  "cells": [
    {
      "cell_type": "markdown",
      "metadata": {
        "id": "view-in-github",
        "colab_type": "text"
      },
      "source": [
        "<a href=\"https://colab.research.google.com/github/ragingwizz/iNeuron_Assignments/blob/main/DS_Python_Q2.ipynb\" target=\"_parent\"><img src=\"https://colab.research.google.com/assets/colab-badge.svg\" alt=\"Open In Colab\"/></a>"
      ]
    },
    {
      "cell_type": "code",
      "source": [
        "from collections import Counter\n",
        "\n",
        "def is_valid_string(s):\n",
        "    freq = Counter(s)  # Count the frequency of each character in the string\n",
        "\n",
        "    # Count the frequency of frequencies\n",
        "    freq_count = Counter(freq.values())\n",
        "\n",
        "    if len(freq_count) == 1:\n",
        "        # If all characters have the same frequency, it's a valid string\n",
        "        return True\n",
        "    elif len(freq_count) == 2:\n",
        "        # If there are exactly two different frequencies\n",
        "        # and one of them occurs only once, it's a valid string\n",
        "        if 1 in freq_count.values() and (freq_count[1] == 1 or abs(freq_count.most_common()[0][0] - freq_count.most_common()[1][0]) == 1):\n",
        "            return True\n",
        "\n",
        "    return False\n",
        "\n",
        "# Test cases\n",
        "\n",
        "assert is_valid_string(\"abc\") == True\n",
        "assert is_valid_string(\"abbbc\") == False\n",
        "assert is_valid_string(\"aaabbbxxxxxyyyzzz\") == False"
      ],
      "metadata": {
        "id": "IOWIMgPWhuQO"
      },
      "execution_count": 17,
      "outputs": []
    },
    {
      "cell_type": "code",
      "source": [],
      "metadata": {
        "id": "HOtu8OHY-dPF"
      },
      "execution_count": null,
      "outputs": []
    }
  ]
}