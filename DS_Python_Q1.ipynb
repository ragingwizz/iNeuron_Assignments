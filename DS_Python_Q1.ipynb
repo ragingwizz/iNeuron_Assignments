{
  "nbformat": 4,
  "nbformat_minor": 0,
  "metadata": {
    "colab": {
      "provenance": [],
      "authorship_tag": "ABX9TyNgAXXc0m4/AqkDqmLletyK",
      "include_colab_link": true
    },
    "kernelspec": {
      "name": "python3",
      "display_name": "Python 3"
    },
    "language_info": {
      "name": "python"
    }
  },
  "cells": [
    {
      "cell_type": "markdown",
      "metadata": {
        "id": "view-in-github",
        "colab_type": "text"
      },
      "source": [
        "<a href=\"https://colab.research.google.com/github/ragingwizz/iNeuron_Assignments/blob/main/DS_Python_Q1.ipynb\" target=\"_parent\"><img src=\"https://colab.research.google.com/assets/colab-badge.svg\" alt=\"Open In Colab\"/></a>"
      ]
    },
    {
      "cell_type": "code",
      "execution_count": 1,
      "metadata": {
        "id": "mYlsbfWlPmhm"
      },
      "outputs": [],
      "source": [
        "def find_highest_frequency_word_length(string):\n",
        "    words = string.split()\n",
        "    word_frequency = {}\n",
        "    \n",
        "    for word in words:\n",
        "        word_frequency[word] = word_frequency.get(word, 0) + 1\n",
        "    \n",
        "    highest_frequency = max(word_frequency.values())\n",
        "    highest_frequency_words = [word for word, frequency in word_frequency.items() if frequency == highest_frequency]\n",
        "    highest_frequency_word_length = len(highest_frequency_words[0])\n",
        "    \n",
        "    return highest_frequency_word_length\n"
      ]
    },
    {
      "cell_type": "code",
      "source": [
        "string1 = \"aaaaa bbbbb cccc dddddd\"\n",
        "# The highest frequency is 5, which corresponds to the word \"aaaaa\"\n",
        "# The length of the highest-frequency word is 5\n",
        "# Expected output: 5\n",
        "find_highest_frequency_word_length(string1)"
      ],
      "metadata": {
        "colab": {
          "base_uri": "https://localhost:8080/"
        },
        "id": "rep55awaQFBo",
        "outputId": "4f353724-26cc-4a16-938b-614d8207ed79"
      },
      "execution_count": 2,
      "outputs": [
        {
          "output_type": "execute_result",
          "data": {
            "text/plain": [
              "5"
            ]
          },
          "metadata": {},
          "execution_count": 2
        }
      ]
    },
    {
      "cell_type": "code",
      "source": [
        "string2 = \"apples apples bananas bananas cherry\"\n",
        "# The highest frequency is 2, which corresponds to the words \"apples\" and \"bananas\"\n",
        "# The length of the highest-frequency words is 5 (length of \"apples\")\n",
        "# Expected output: 6\n",
        "find_highest_frequency_word_length(string2)"
      ],
      "metadata": {
        "colab": {
          "base_uri": "https://localhost:8080/"
        },
        "id": "23vtakPHQPo_",
        "outputId": "bd67c9df-6695-499b-db95-319ff4e4e1c7"
      },
      "execution_count": 3,
      "outputs": [
        {
          "output_type": "execute_result",
          "data": {
            "text/plain": [
              "6"
            ]
          },
          "metadata": {},
          "execution_count": 3
        }
      ]
    }
  ]
}