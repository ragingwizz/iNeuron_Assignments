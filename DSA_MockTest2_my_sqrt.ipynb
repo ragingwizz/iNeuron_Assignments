{
  "cells": [
    {
      "cell_type": "markdown",
      "metadata": {
        "id": "view-in-github",
        "colab_type": "text"
      },
      "source": [
        "<a href=\"https://colab.research.google.com/github/ragingwizz/iNeuron_Assignments/blob/main/DSA_MockTest2_my_sqrt.ipynb\" target=\"_parent\"><img src=\"https://colab.research.google.com/assets/colab-badge.svg\" alt=\"Open In Colab\"/></a>"
      ]
    },
    {
      "cell_type": "code",
      "source": [
        "import math\n",
        "def my_sqrt(x):\n",
        "    if x <= 0 or x >math.pow(2,31) - 1:\n",
        "        return 0\n",
        "\n",
        "    low = 0\n",
        "    high = x\n",
        "    while low <= high:\n",
        "        mid = (low + high) // 2\n",
        "        if mid * mid <= x < (mid + 1) * (mid + 1):\n",
        "            return mid\n",
        "        elif x < mid * mid:\n",
        "            high = mid - 1\n",
        "        else:\n",
        "            low = mid + 1\n",
        "\n",
        "    return low\n",
        ""
      ],
      "outputs": [],
      "execution_count": 1,
      "metadata": {
        "id": "1EJSB-XGFeH_"
      }
    },
    {
      "cell_type": "code",
      "source": [
        "print(my_sqrt(4))\n",
        "print(my_sqrt(16))\n",
        "print(my_sqrt(21))\n",
        "print(my_sqrt(25))\n"
      ],
      "metadata": {
        "colab": {
          "base_uri": "https://localhost:8080/"
        },
        "id": "hiqQtaRiFsV8",
        "outputId": "912a8a50-71c8-4750-c5fc-5caa60460ea6"
      },
      "execution_count": 2,
      "outputs": [
        {
          "output_type": "stream",
          "name": "stdout",
          "text": [
            "2\n",
            "4\n",
            "4\n",
            "5\n"
          ]
        }
      ]
    },
    {
      "cell_type": "code",
      "source": [],
      "metadata": {
        "id": "GKrFq-90HbEw"
      },
      "execution_count": null,
      "outputs": []
    }
  ],
  "metadata": {
    "colab": {
      "provenance": [],
      "include_colab_link": true
    },
    "kernelspec": {
      "display_name": "Python 3",
      "name": "python3"
    }
  },
  "nbformat": 4,
  "nbformat_minor": 0
}